{
  "nbformat": 4,
  "nbformat_minor": 0,
  "metadata": {
    "colab": {
      "name": "CPP_to_work_avoiding_accident_locations.ipynb",
      "provenance": [],
      "authorship_tag": "ABX9TyOU3LJLf/2Po1fx6WwzxZ/f",
      "include_colab_link": true
    },
    "kernelspec": {
      "name": "python3",
      "display_name": "Python 3"
    },
    "language_info": {
      "name": "python"
    }
  },
  "cells": [
    {
      "cell_type": "markdown",
      "metadata": {
        "id": "view-in-github",
        "colab_type": "text"
      },
      "source": [
        "<a href=\"https://colab.research.google.com/github/softcomput/cp-colab/blob/main/CPP_to_work_avoiding_accident_locations.ipynb\" target=\"_parent\"><img src=\"https://colab.research.google.com/assets/colab-badge.svg\" alt=\"Open In Colab\"/></a>"
      ]
    },
    {
      "cell_type": "code",
      "metadata": {
        "id": "SYKFJwCNO719"
      },
      "source": [
        "## **Getting started**\n",
        "\n",
        "1. Install Google OR-Tools.\n",
        "2. Create small data model or large data model.\n",
        "3. Run car pooling problem to work."
      ],
      "execution_count": null,
      "outputs": []
    }
  ]
}